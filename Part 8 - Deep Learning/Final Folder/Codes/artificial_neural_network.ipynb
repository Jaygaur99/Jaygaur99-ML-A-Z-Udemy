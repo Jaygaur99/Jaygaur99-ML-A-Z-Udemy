{
 "cells": [
  {
   "cell_type": "markdown",
   "metadata": {
    "colab_type": "text",
    "id": "3cbb7fRy-eyr"
   },
   "source": [
    "# Artificial Neural Network"
   ]
  },
  {
   "cell_type": "markdown",
   "metadata": {
    "colab_type": "text",
    "id": "8sNDnxE2-pwE"
   },
   "source": [
    "### Importing the libraries"
   ]
  },
  {
   "cell_type": "code",
   "execution_count": 1,
   "metadata": {
    "colab": {},
    "colab_type": "code",
    "id": "lxChR1Rk-umf"
   },
   "outputs": [],
   "source": [
    "import numpy as np\n",
    "import pandas as pd\n",
    "import tensorflow as tf"
   ]
  },
  {
   "cell_type": "code",
   "execution_count": 2,
   "metadata": {
    "colab": {
     "base_uri": "https://localhost:8080/",
     "height": 34
    },
    "colab_type": "code",
    "id": "uBTqR3nacj0e",
    "outputId": "4c0bd183-e424-429a-9fba-ceb841c06888"
   },
   "outputs": [
    {
     "data": {
      "text/plain": [
       "'2.5.0'"
      ]
     },
     "execution_count": 2,
     "metadata": {},
     "output_type": "execute_result"
    }
   ],
   "source": [
    "tf.__version__"
   ]
  },
  {
   "cell_type": "markdown",
   "metadata": {
    "colab_type": "text",
    "id": "AG3FQEch-yuA"
   },
   "source": [
    "## Part 1 - Data Preprocessing"
   ]
  },
  {
   "cell_type": "markdown",
   "metadata": {
    "colab_type": "text",
    "id": "-4zq8Mza_D9O"
   },
   "source": [
    "### Importing the dataset"
   ]
  },
  {
   "cell_type": "code",
   "execution_count": 4,
   "metadata": {
    "colab": {},
    "colab_type": "code",
    "id": "B9CV13Co_HHM"
   },
   "outputs": [],
   "source": [
    "dataset = pd.read_excel('Dataset/Folds5x2_pp.xlsx')\n",
    "X = dataset.iloc[:, :-1].values\n",
    "y = dataset.iloc[:, -1].values"
   ]
  },
  {
   "cell_type": "markdown",
   "metadata": {
    "colab_type": "text",
    "id": "VC6omXel_Up0"
   },
   "source": [
    "### Splitting the dataset into the Training set and Test set"
   ]
  },
  {
   "cell_type": "code",
   "execution_count": 5,
   "metadata": {
    "colab": {},
    "colab_type": "code",
    "id": "L5edeb2r_agx"
   },
   "outputs": [],
   "source": [
    "from sklearn.model_selection import train_test_split\n",
    "X_train, X_test, y_train, y_test = train_test_split(X, y, test_size = 0.2, random_state = 0)"
   ]
  },
  {
   "cell_type": "markdown",
   "metadata": {
    "colab_type": "text",
    "id": "_mSLlAT9_eyI"
   },
   "source": [
    "## Part 2 - Building the ANN"
   ]
  },
  {
   "cell_type": "markdown",
   "metadata": {
    "colab_type": "text",
    "id": "CsBULd_f_wLY"
   },
   "source": [
    "### Initializing the ANN"
   ]
  },
  {
   "cell_type": "code",
   "execution_count": 6,
   "metadata": {
    "colab": {},
    "colab_type": "code",
    "id": "J6Hd97Ls__Nz"
   },
   "outputs": [],
   "source": [
    "ann = tf.keras.models.Sequential()"
   ]
  },
  {
   "cell_type": "markdown",
   "metadata": {
    "colab_type": "text",
    "id": "iitAFJS_ABUn"
   },
   "source": [
    "### Adding the input layer and the first hidden layer"
   ]
  },
  {
   "cell_type": "code",
   "execution_count": 7,
   "metadata": {
    "colab": {},
    "colab_type": "code",
    "id": "ksO_Vv40AHix"
   },
   "outputs": [],
   "source": [
    "ann.add(tf.keras.layers.Dense(units=6, activation='relu'))"
   ]
  },
  {
   "cell_type": "markdown",
   "metadata": {
    "colab_type": "text",
    "id": "-lb4kK_wAKbs"
   },
   "source": [
    "### Adding the second hidden layer"
   ]
  },
  {
   "cell_type": "code",
   "execution_count": 8,
   "metadata": {
    "colab": {},
    "colab_type": "code",
    "id": "c2357OqEAQOQ"
   },
   "outputs": [],
   "source": [
    "ann.add(tf.keras.layers.Dense(units=6, activation='relu'))"
   ]
  },
  {
   "cell_type": "markdown",
   "metadata": {
    "colab_type": "text",
    "id": "jwMOmKb3AdBY"
   },
   "source": [
    "### Adding the output layer"
   ]
  },
  {
   "cell_type": "code",
   "execution_count": 9,
   "metadata": {
    "colab": {},
    "colab_type": "code",
    "id": "YFATpzsUAkLL"
   },
   "outputs": [],
   "source": [
    "ann.add(tf.keras.layers.Dense(units=1))"
   ]
  },
  {
   "cell_type": "markdown",
   "metadata": {
    "colab_type": "text",
    "id": "fq7e4fF6A1yy"
   },
   "source": [
    "## Part 3 - Training the ANN"
   ]
  },
  {
   "cell_type": "markdown",
   "metadata": {
    "colab_type": "text",
    "id": "qDeylAs2An25"
   },
   "source": [
    "### Compiling the ANN"
   ]
  },
  {
   "cell_type": "code",
   "execution_count": 10,
   "metadata": {
    "colab": {},
    "colab_type": "code",
    "id": "pesgbWlCAtB4"
   },
   "outputs": [],
   "source": [
    "ann.compile(optimizer = 'adam', loss = 'mean_squared_error')"
   ]
  },
  {
   "cell_type": "markdown",
   "metadata": {
    "colab_type": "text",
    "id": "YjVuiybYOo7r"
   },
   "source": [
    "### Training the ANN model on the Training set"
   ]
  },
  {
   "cell_type": "code",
   "execution_count": 11,
   "metadata": {
    "colab": {
     "base_uri": "https://localhost:8080/",
     "height": 1000
    },
    "colab_type": "code",
    "id": "c_vV-tiiA5zn",
    "outputId": "4a2b6ee6-ed75-4698-9069-b250e613803f",
    "scrolled": true
   },
   "outputs": [
    {
     "name": "stdout",
     "output_type": "stream",
     "text": [
      "Epoch 1/100\n",
      "240/240 [==============================] - 4s 3ms/step - loss: 46155.7422\n",
      "Epoch 2/100\n",
      "240/240 [==============================] - 1s 2ms/step - loss: 249.3771\n",
      "Epoch 3/100\n",
      "240/240 [==============================] - 1s 3ms/step - loss: 237.0873\n",
      "Epoch 4/100\n",
      "240/240 [==============================] - 1s 3ms/step - loss: 226.8355\n",
      "Epoch 5/100\n",
      "240/240 [==============================] - 1s 3ms/step - loss: 214.5756\n",
      "Epoch 6/100\n",
      "240/240 [==============================] - 1s 3ms/step - loss: 201.3204\n",
      "Epoch 7/100\n",
      "240/240 [==============================] - 1s 3ms/step - loss: 186.6458\n",
      "Epoch 8/100\n",
      "240/240 [==============================] - 1s 3ms/step - loss: 171.1160\n",
      "Epoch 9/100\n",
      "240/240 [==============================] - 1s 2ms/step - loss: 155.7229\n",
      "Epoch 10/100\n",
      "240/240 [==============================] - 1s 3ms/step - loss: 139.9872\n",
      "Epoch 11/100\n",
      "240/240 [==============================] - 1s 3ms/step - loss: 124.7245\n",
      "Epoch 12/100\n",
      "240/240 [==============================] - 1s 4ms/step - loss: 110.1858\n",
      "Epoch 13/100\n",
      "240/240 [==============================] - 0s 1ms/step - loss: 96.7901\n",
      "Epoch 14/100\n",
      "240/240 [==============================] - 0s 1ms/step - loss: 84.7061\n",
      "Epoch 15/100\n",
      "240/240 [==============================] - 0s 2ms/step - loss: 74.5185\n",
      "Epoch 16/100\n",
      "240/240 [==============================] - 0s 2ms/step - loss: 65.9092\n",
      "Epoch 17/100\n",
      "240/240 [==============================] - 1s 4ms/step - loss: 58.9730\n",
      "Epoch 18/100\n",
      "240/240 [==============================] - 1s 3ms/step - loss: 53.5303\n",
      "Epoch 19/100\n",
      "240/240 [==============================] - 1s 3ms/step - loss: 49.6931\n",
      "Epoch 20/100\n",
      "240/240 [==============================] - 1s 3ms/step - loss: 47.2358: 0s - l\n",
      "Epoch 21/100\n",
      "240/240 [==============================] - 1s 3ms/step - loss: 45.2982\n",
      "Epoch 22/100\n",
      "240/240 [==============================] - 1s 4ms/step - loss: 43.9614\n",
      "Epoch 23/100\n",
      "240/240 [==============================] - 1s 3ms/step - loss: 43.0588\n",
      "Epoch 24/100\n",
      "240/240 [==============================] - 1s 3ms/step - loss: 41.9660\n",
      "Epoch 25/100\n",
      "240/240 [==============================] - 1s 2ms/step - loss: 41.2232\n",
      "Epoch 26/100\n",
      "240/240 [==============================] - 1s 3ms/step - loss: 40.2661\n",
      "Epoch 27/100\n",
      "240/240 [==============================] - 1s 3ms/step - loss: 39.6584\n",
      "Epoch 28/100\n",
      "240/240 [==============================] - 1s 3ms/step - loss: 38.8705\n",
      "Epoch 29/100\n",
      "240/240 [==============================] - 1s 4ms/step - loss: 37.7351\n",
      "Epoch 30/100\n",
      "240/240 [==============================] - 1s 2ms/step - loss: 36.9953\n",
      "Epoch 31/100\n",
      "240/240 [==============================] - 1s 3ms/step - loss: 36.0138\n",
      "Epoch 32/100\n",
      "240/240 [==============================] - 1s 4ms/step - loss: 35.0286\n",
      "Epoch 33/100\n",
      "240/240 [==============================] - 1s 3ms/step - loss: 35.1340\n",
      "Epoch 34/100\n",
      "240/240 [==============================] - 1s 3ms/step - loss: 33.6788\n",
      "Epoch 35/100\n",
      "240/240 [==============================] - 1s 3ms/step - loss: 32.6124\n",
      "Epoch 36/100\n",
      "240/240 [==============================] - 1s 3ms/step - loss: 32.5487\n",
      "Epoch 37/100\n",
      "240/240 [==============================] - 1s 4ms/step - loss: 31.4869\n",
      "Epoch 38/100\n",
      "240/240 [==============================] - 1s 3ms/step - loss: 31.2432\n",
      "Epoch 39/100\n",
      "240/240 [==============================] - 1s 4ms/step - loss: 30.4302: 0s - loss: 3\n",
      "Epoch 40/100\n",
      "240/240 [==============================] - 1s 2ms/step - loss: 30.2690\n",
      "Epoch 41/100\n",
      "240/240 [==============================] - 1s 3ms/step - loss: 29.2355\n",
      "Epoch 42/100\n",
      "240/240 [==============================] - 1s 4ms/step - loss: 29.2960\n",
      "Epoch 43/100\n",
      "240/240 [==============================] - 1s 3ms/step - loss: 28.7504\n",
      "Epoch 44/100\n",
      "240/240 [==============================] - 1s 3ms/step - loss: 28.4991\n",
      "Epoch 45/100\n",
      "240/240 [==============================] - 1s 3ms/step - loss: 28.1429\n",
      "Epoch 46/100\n",
      "240/240 [==============================] - 1s 3ms/step - loss: 28.9783\n",
      "Epoch 47/100\n",
      "240/240 [==============================] - 1s 3ms/step - loss: 27.5865\n",
      "Epoch 48/100\n",
      "240/240 [==============================] - 1s 3ms/step - loss: 27.5433\n",
      "Epoch 49/100\n",
      "240/240 [==============================] - 1s 4ms/step - loss: 27.4518\n",
      "Epoch 50/100\n",
      "240/240 [==============================] - 1s 3ms/step - loss: 27.0592\n",
      "Epoch 51/100\n",
      "240/240 [==============================] - 1s 3ms/step - loss: 27.4860\n",
      "Epoch 52/100\n",
      "240/240 [==============================] - 1s 3ms/step - loss: 27.3574\n",
      "Epoch 53/100\n",
      "240/240 [==============================] - 1s 4ms/step - loss: 27.9227\n",
      "Epoch 54/100\n",
      "240/240 [==============================] - 1s 2ms/step - loss: 26.9343\n",
      "Epoch 55/100\n",
      "240/240 [==============================] - 1s 4ms/step - loss: 26.7600\n",
      "Epoch 56/100\n",
      "240/240 [==============================] - 1s 3ms/step - loss: 27.1023\n",
      "Epoch 57/100\n",
      "240/240 [==============================] - 1s 2ms/step - loss: 27.1318\n",
      "Epoch 58/100\n",
      "240/240 [==============================] - 1s 3ms/step - loss: 27.1835\n",
      "Epoch 59/100\n",
      "240/240 [==============================] - 1s 3ms/step - loss: 26.5383\n",
      "Epoch 60/100\n",
      "240/240 [==============================] - 1s 2ms/step - loss: 26.9119\n",
      "Epoch 61/100\n",
      "240/240 [==============================] - 1s 3ms/step - loss: 26.6940\n",
      "Epoch 62/100\n",
      "240/240 [==============================] - 1s 4ms/step - loss: 27.1428\n",
      "Epoch 63/100\n",
      "240/240 [==============================] - 1s 3ms/step - loss: 26.9561\n",
      "Epoch 64/100\n",
      "240/240 [==============================] - 1s 3ms/step - loss: 26.5953\n",
      "Epoch 65/100\n",
      "240/240 [==============================] - 1s 3ms/step - loss: 26.6392\n",
      "Epoch 66/100\n",
      "240/240 [==============================] - 1s 3ms/step - loss: 26.5506\n",
      "Epoch 67/100\n",
      "240/240 [==============================] - 1s 3ms/step - loss: 26.9274\n",
      "Epoch 68/100\n",
      "240/240 [==============================] - 1s 3ms/step - loss: 26.5133\n",
      "Epoch 69/100\n",
      "240/240 [==============================] - 1s 3ms/step - loss: 26.3901\n",
      "Epoch 70/100\n",
      "240/240 [==============================] - 1s 3ms/step - loss: 27.0254\n",
      "Epoch 71/100\n",
      "240/240 [==============================] - 1s 3ms/step - loss: 27.3657\n",
      "Epoch 72/100\n",
      "240/240 [==============================] - 1s 3ms/step - loss: 26.8733\n",
      "Epoch 73/100\n",
      "240/240 [==============================] - 1s 4ms/step - loss: 27.1325\n",
      "Epoch 74/100\n",
      "240/240 [==============================] - 1s 3ms/step - loss: 27.0934\n",
      "Epoch 75/100\n",
      "240/240 [==============================] - 1s 3ms/step - loss: 26.9968\n",
      "Epoch 76/100\n",
      "240/240 [==============================] - 1s 3ms/step - loss: 27.3861\n",
      "Epoch 77/100\n",
      "240/240 [==============================] - 1s 3ms/step - loss: 26.7119\n",
      "Epoch 78/100\n",
      "240/240 [==============================] - 1s 3ms/step - loss: 26.7206\n",
      "Epoch 79/100\n",
      "240/240 [==============================] - 1s 3ms/step - loss: 26.9876\n",
      "Epoch 80/100\n",
      "240/240 [==============================] - 1s 3ms/step - loss: 26.2422\n",
      "Epoch 81/100\n",
      "240/240 [==============================] - 1s 4ms/step - loss: 26.7074\n",
      "Epoch 82/100\n",
      "240/240 [==============================] - 1s 3ms/step - loss: 26.7438\n",
      "Epoch 83/100\n",
      "240/240 [==============================] - 1s 3ms/step - loss: 26.8275\n",
      "Epoch 84/100\n",
      "240/240 [==============================] - 1s 3ms/step - loss: 26.6355\n",
      "Epoch 85/100\n",
      "240/240 [==============================] - 1s 3ms/step - loss: 27.0071\n",
      "Epoch 86/100\n",
      "240/240 [==============================] - 1s 3ms/step - loss: 26.9137\n",
      "Epoch 87/100\n",
      "240/240 [==============================] - 1s 3ms/step - loss: 26.9004\n",
      "Epoch 88/100\n",
      "240/240 [==============================] - 1s 3ms/step - loss: 26.6734\n",
      "Epoch 89/100\n",
      "240/240 [==============================] - 1s 3ms/step - loss: 27.0005\n",
      "Epoch 90/100\n",
      "240/240 [==============================] - 1s 3ms/step - loss: 27.2901\n",
      "Epoch 91/100\n",
      "240/240 [==============================] - 1s 3ms/step - loss: 26.4203\n",
      "Epoch 92/100\n",
      "240/240 [==============================] - 1s 3ms/step - loss: 27.0904\n",
      "Epoch 93/100\n",
      "240/240 [==============================] - 1s 3ms/step - loss: 26.3378\n",
      "Epoch 94/100\n",
      "240/240 [==============================] - 1s 3ms/step - loss: 26.2693\n",
      "Epoch 95/100\n",
      "240/240 [==============================] - 1s 3ms/step - loss: 26.4621\n",
      "Epoch 96/100\n",
      "240/240 [==============================] - 1s 3ms/step - loss: 27.4347\n",
      "Epoch 97/100\n",
      "240/240 [==============================] - 1s 3ms/step - loss: 26.6111\n",
      "Epoch 98/100\n"
     ]
    },
    {
     "name": "stdout",
     "output_type": "stream",
     "text": [
      "240/240 [==============================] - 1s 3ms/step - loss: 26.5368\n",
      "Epoch 99/100\n",
      "240/240 [==============================] - 1s 2ms/step - loss: 26.6429\n",
      "Epoch 100/100\n",
      "240/240 [==============================] - 1s 3ms/step - loss: 26.4550\n"
     ]
    },
    {
     "data": {
      "text/plain": [
       "<tensorflow.python.keras.callbacks.History at 0x25c541162b0>"
      ]
     },
     "execution_count": 11,
     "metadata": {},
     "output_type": "execute_result"
    }
   ],
   "source": [
    "ann.fit(X_train, y_train, batch_size = 32, epochs = 100)"
   ]
  },
  {
   "cell_type": "markdown",
   "metadata": {
    "colab_type": "text",
    "id": "0H0zKKNEBLD5"
   },
   "source": [
    "### Predicting the results of the Test set"
   ]
  },
  {
   "cell_type": "code",
   "execution_count": 12,
   "metadata": {
    "colab": {
     "base_uri": "https://localhost:8080/",
     "height": 134
    },
    "colab_type": "code",
    "id": "IA0yApEmBG1X",
    "outputId": "cb981e1f-9204-4a2a-fece-9d66a6919189"
   },
   "outputs": [
    {
     "name": "stdout",
     "output_type": "stream",
     "text": [
      "[[432.35 431.23]\n",
      " [463.41 460.01]\n",
      " [466.91 461.14]\n",
      " ...\n",
      " [474.16 473.26]\n",
      " [440.89 438.  ]\n",
      " [460.12 463.28]]\n"
     ]
    }
   ],
   "source": [
    "y_pred = ann.predict(X_test)\n",
    "np.set_printoptions(precision=2)\n",
    "print(np.concatenate((y_pred.reshape(len(y_pred),1), y_test.reshape(len(y_test),1)),1))"
   ]
  },
  {
   "cell_type": "code",
   "execution_count": 15,
   "metadata": {},
   "outputs": [],
   "source": [
    "from sklearn.metrics import accuracy_score"
   ]
  },
  {
   "cell_type": "code",
   "execution_count": 17,
   "metadata": {},
   "outputs": [
    {
     "ename": "ValueError",
     "evalue": "continuous is not supported",
     "output_type": "error",
     "traceback": [
      "\u001b[1;31m---------------------------------------------------------------------------\u001b[0m",
      "\u001b[1;31mValueError\u001b[0m                                Traceback (most recent call last)",
      "\u001b[1;32m<ipython-input-17-b123e04c5193>\u001b[0m in \u001b[0;36m<module>\u001b[1;34m\u001b[0m\n\u001b[1;32m----> 1\u001b[1;33m \u001b[0maccuracy_score\u001b[0m\u001b[1;33m(\u001b[0m\u001b[0my_test\u001b[0m\u001b[1;33m,\u001b[0m \u001b[0my_pred\u001b[0m\u001b[1;33m)\u001b[0m\u001b[1;33m\u001b[0m\u001b[1;33m\u001b[0m\u001b[0m\n\u001b[0m",
      "\u001b[1;32m~\\anaconda3\\lib\\site-packages\\sklearn\\utils\\validation.py\u001b[0m in \u001b[0;36minner_f\u001b[1;34m(*args, **kwargs)\u001b[0m\n\u001b[0;32m     70\u001b[0m                           FutureWarning)\n\u001b[0;32m     71\u001b[0m         \u001b[0mkwargs\u001b[0m\u001b[1;33m.\u001b[0m\u001b[0mupdate\u001b[0m\u001b[1;33m(\u001b[0m\u001b[1;33m{\u001b[0m\u001b[0mk\u001b[0m\u001b[1;33m:\u001b[0m \u001b[0marg\u001b[0m \u001b[1;32mfor\u001b[0m \u001b[0mk\u001b[0m\u001b[1;33m,\u001b[0m \u001b[0marg\u001b[0m \u001b[1;32min\u001b[0m \u001b[0mzip\u001b[0m\u001b[1;33m(\u001b[0m\u001b[0msig\u001b[0m\u001b[1;33m.\u001b[0m\u001b[0mparameters\u001b[0m\u001b[1;33m,\u001b[0m \u001b[0margs\u001b[0m\u001b[1;33m)\u001b[0m\u001b[1;33m}\u001b[0m\u001b[1;33m)\u001b[0m\u001b[1;33m\u001b[0m\u001b[1;33m\u001b[0m\u001b[0m\n\u001b[1;32m---> 72\u001b[1;33m         \u001b[1;32mreturn\u001b[0m \u001b[0mf\u001b[0m\u001b[1;33m(\u001b[0m\u001b[1;33m**\u001b[0m\u001b[0mkwargs\u001b[0m\u001b[1;33m)\u001b[0m\u001b[1;33m\u001b[0m\u001b[1;33m\u001b[0m\u001b[0m\n\u001b[0m\u001b[0;32m     73\u001b[0m     \u001b[1;32mreturn\u001b[0m \u001b[0minner_f\u001b[0m\u001b[1;33m\u001b[0m\u001b[1;33m\u001b[0m\u001b[0m\n\u001b[0;32m     74\u001b[0m \u001b[1;33m\u001b[0m\u001b[0m\n",
      "\u001b[1;32m~\\anaconda3\\lib\\site-packages\\sklearn\\metrics\\_classification.py\u001b[0m in \u001b[0;36maccuracy_score\u001b[1;34m(y_true, y_pred, normalize, sample_weight)\u001b[0m\n\u001b[0;32m    185\u001b[0m \u001b[1;33m\u001b[0m\u001b[0m\n\u001b[0;32m    186\u001b[0m     \u001b[1;31m# Compute accuracy for each possible representation\u001b[0m\u001b[1;33m\u001b[0m\u001b[1;33m\u001b[0m\u001b[1;33m\u001b[0m\u001b[0m\n\u001b[1;32m--> 187\u001b[1;33m     \u001b[0my_type\u001b[0m\u001b[1;33m,\u001b[0m \u001b[0my_true\u001b[0m\u001b[1;33m,\u001b[0m \u001b[0my_pred\u001b[0m \u001b[1;33m=\u001b[0m \u001b[0m_check_targets\u001b[0m\u001b[1;33m(\u001b[0m\u001b[0my_true\u001b[0m\u001b[1;33m,\u001b[0m \u001b[0my_pred\u001b[0m\u001b[1;33m)\u001b[0m\u001b[1;33m\u001b[0m\u001b[1;33m\u001b[0m\u001b[0m\n\u001b[0m\u001b[0;32m    188\u001b[0m     \u001b[0mcheck_consistent_length\u001b[0m\u001b[1;33m(\u001b[0m\u001b[0my_true\u001b[0m\u001b[1;33m,\u001b[0m \u001b[0my_pred\u001b[0m\u001b[1;33m,\u001b[0m \u001b[0msample_weight\u001b[0m\u001b[1;33m)\u001b[0m\u001b[1;33m\u001b[0m\u001b[1;33m\u001b[0m\u001b[0m\n\u001b[0;32m    189\u001b[0m     \u001b[1;32mif\u001b[0m \u001b[0my_type\u001b[0m\u001b[1;33m.\u001b[0m\u001b[0mstartswith\u001b[0m\u001b[1;33m(\u001b[0m\u001b[1;34m'multilabel'\u001b[0m\u001b[1;33m)\u001b[0m\u001b[1;33m:\u001b[0m\u001b[1;33m\u001b[0m\u001b[1;33m\u001b[0m\u001b[0m\n",
      "\u001b[1;32m~\\anaconda3\\lib\\site-packages\\sklearn\\metrics\\_classification.py\u001b[0m in \u001b[0;36m_check_targets\u001b[1;34m(y_true, y_pred)\u001b[0m\n\u001b[0;32m     96\u001b[0m     \u001b[1;31m# No metrics support \"multiclass-multioutput\" format\u001b[0m\u001b[1;33m\u001b[0m\u001b[1;33m\u001b[0m\u001b[1;33m\u001b[0m\u001b[0m\n\u001b[0;32m     97\u001b[0m     \u001b[1;32mif\u001b[0m \u001b[1;33m(\u001b[0m\u001b[0my_type\u001b[0m \u001b[1;32mnot\u001b[0m \u001b[1;32min\u001b[0m \u001b[1;33m[\u001b[0m\u001b[1;34m\"binary\"\u001b[0m\u001b[1;33m,\u001b[0m \u001b[1;34m\"multiclass\"\u001b[0m\u001b[1;33m,\u001b[0m \u001b[1;34m\"multilabel-indicator\"\u001b[0m\u001b[1;33m]\u001b[0m\u001b[1;33m)\u001b[0m\u001b[1;33m:\u001b[0m\u001b[1;33m\u001b[0m\u001b[1;33m\u001b[0m\u001b[0m\n\u001b[1;32m---> 98\u001b[1;33m         \u001b[1;32mraise\u001b[0m \u001b[0mValueError\u001b[0m\u001b[1;33m(\u001b[0m\u001b[1;34m\"{0} is not supported\"\u001b[0m\u001b[1;33m.\u001b[0m\u001b[0mformat\u001b[0m\u001b[1;33m(\u001b[0m\u001b[0my_type\u001b[0m\u001b[1;33m)\u001b[0m\u001b[1;33m)\u001b[0m\u001b[1;33m\u001b[0m\u001b[1;33m\u001b[0m\u001b[0m\n\u001b[0m\u001b[0;32m     99\u001b[0m \u001b[1;33m\u001b[0m\u001b[0m\n\u001b[0;32m    100\u001b[0m     \u001b[1;32mif\u001b[0m \u001b[0my_type\u001b[0m \u001b[1;32min\u001b[0m \u001b[1;33m[\u001b[0m\u001b[1;34m\"binary\"\u001b[0m\u001b[1;33m,\u001b[0m \u001b[1;34m\"multiclass\"\u001b[0m\u001b[1;33m]\u001b[0m\u001b[1;33m:\u001b[0m\u001b[1;33m\u001b[0m\u001b[1;33m\u001b[0m\u001b[0m\n",
      "\u001b[1;31mValueError\u001b[0m: continuous is not supported"
     ]
    }
   ],
   "source": [
    "accuracy_score(y_test, y_pred)"
   ]
  },
  {
   "cell_type": "code",
   "execution_count": null,
   "metadata": {},
   "outputs": [],
   "source": []
  }
 ],
 "metadata": {
  "colab": {
   "collapsed_sections": [],
   "name": "Artificial Neural Network",
   "provenance": [],
   "toc_visible": true
  },
  "kernelspec": {
   "display_name": "Python 3",
   "language": "python",
   "name": "python3"
  },
  "language_info": {
   "codemirror_mode": {
    "name": "ipython",
    "version": 3
   },
   "file_extension": ".py",
   "mimetype": "text/x-python",
   "name": "python",
   "nbconvert_exporter": "python",
   "pygments_lexer": "ipython3",
   "version": "3.8.5"
  }
 },
 "nbformat": 4,
 "nbformat_minor": 1
}
